{
 "cells": [
  {
   "cell_type": "markdown",
   "metadata": {},
   "source": [
    "<div>\n",
    "Olá, Heury!\n",
    "\n",
    "Meu nome é Luiz. Fico feliz em revisar seu projeto. Ao longo do texto farei algumas observações sobre melhorias no código e também farei comentários sobre suas percepções sobre o assunto. Estarei aberto a feedbacks e discussões sobre o tema.\n",
    "\n",
    "**Peço que mantenha e não altere os comentários que eu fizer por aqui para que possamos nos localizar posteriormente, ok?**\n",
    "\n",
    "Mais uma coisa, vamos utilizar um código de cores para você entender o meu feedback no seu notebook. Funciona assim:\n",
    "\n",
    "<div class=\"alert alert-block alert-success\">\n",
    "<b> Comentário do revisor: </b> <a class=\"tocSkip\"></a>\n",
    "\n",
    "Sucesso. Tudo foi feito corretamente.\n",
    "</div>\n",
    "\n",
    "<div class=\"alert alert-block alert-warning\">\n",
    "<b>Comentário do revisor: </b> <a class=\"tocSkip\"></a>\n",
    "\n",
    "Alerta não crítico, mas que pode ser corrigido para melhoria geral no seu código/análise.\n",
    "</div>\n",
    "\n",
    "<div class=\"alert alert-block alert-danger\">\n",
    "\n",
    "<b>Comentário do revisor: </b> <a class=\"tocSkip\"></a>\n",
    "    \n",
    "Erro que precisa ser arrumado, caso contrário seu projeto **não** será aceito.\n",
    "</div>\n",
    "\n",
    "Você pode interagir comigo através dessa célula:\n",
    "<div class=\"alert alert-block alert-info\">\n",
    "<b>Resposta do Aluno.</b> <a class=\"tocSkip\"></a>\n",
    "</div>"
   ]
  },
  {
   "cell_type": "markdown",
   "metadata": {},
   "source": [
    "<div class=\"alert alert-block alert-danger\">\n",
    "<b> Comentário do revisor v1 </b> <a class=\"tocSkip\"></a>\n",
    "<s>\n",
    "    \n",
    "Obrigado por enviar o seu projeto e pelo esforço para executar as etapas necessárias.   \n",
    "<br>\n",
    "    \n",
    "No geral, o seu projeto está muito bom, você implementou corretamente a maioria das questões e mostrou excelentes habilidades de manipulação de dados. Entretanto, deixei alguns comentários com pequenos ajustes que precisamos fazer antes de seguirmos. Peço que trabalhe nesse ponto para avançarmos!\n",
    "    \n",
    "<br>\n",
    "    \n",
    "Se tiver alguma dúvida, pode contar comigo.\n",
    "    \n",
    "<br>   \n",
    "\n",
    "**Até breve!**\n",
    "</s>\n",
    "</div>"
   ]
  },
  {
   "cell_type": "markdown",
   "metadata": {},
   "source": [
    "<div class=\"alert alert-block alert-success\">\n",
    "<b> Comentário geral do revisor</b> <a class=\"tocSkip\"></a>\n",
    "\n",
    "Obrigado por enviar o seu projeto e fazer os ajustes sugeridos. Essa versão do seu trabalho ficou muito melhor! Espero que as sugestões sejam relevantes para projetos futuros.\n",
    "    \n",
    "<br>\n",
    "Te desejo uma jornada de muito sucesso e aprendizado.\n",
    "    \n",
    "<br>   \n",
    "    \n",
    "Qualquer dúvida, pode contar comigo.   \n",
    "    \n",
    "<br>  \n",
    "    \n",
    "**Até breve!**\n",
    "\n",
    "</div>"
   ]
  },
  {
   "cell_type": "markdown",
   "metadata": {},
   "source": [
    "# 1 - Análise Inicial dos Dados"
   ]
  },
  {
   "cell_type": "markdown",
   "metadata": {},
   "source": [
    "Importando as bibliotecas necessárias"
   ]
  },
  {
   "cell_type": "code",
   "execution_count": 4,
   "metadata": {},
   "outputs": [],
   "source": [
    "import pandas as pd\n",
    "import scipy.stats as stats"
   ]
  },
  {
   "cell_type": "markdown",
   "metadata": {},
   "source": [
    " <div style=\"background-color: lightblue; padding: 10px; border-radius: 5px;\">Importando os arquivos necessários</div>"
   ]
  },
  {
   "cell_type": "code",
   "execution_count": 5,
   "metadata": {},
   "outputs": [],
   "source": [
    "df_trips_amount = pd.read_csv('/datasets/project_sql_result_01.csv')\n",
    "df_average_trips = pd.read_csv('/datasets/project_sql_result_04.csv')"
   ]
  },
  {
   "cell_type": "markdown",
   "metadata": {},
   "source": [
    "Verificando os dados dos dataframes criados"
   ]
  },
  {
   "cell_type": "code",
   "execution_count": 6,
   "metadata": {},
   "outputs": [
    {
     "name": "stdout",
     "output_type": "stream",
     "text": [
      "Informações gerais sobre df_trips_amount:\n",
      "<class 'pandas.core.frame.DataFrame'>\n",
      "RangeIndex: 64 entries, 0 to 63\n",
      "Data columns (total 2 columns):\n",
      " #   Column        Non-Null Count  Dtype \n",
      "---  ------        --------------  ----- \n",
      " 0   company_name  64 non-null     object\n",
      " 1   trips_amount  64 non-null     int64 \n",
      "dtypes: int64(1), object(1)\n",
      "memory usage: 1.1+ KB\n",
      "None \n",
      "\n",
      "Informações gerais sobre df_average_trips:\n",
      "<class 'pandas.core.frame.DataFrame'>\n",
      "RangeIndex: 94 entries, 0 to 93\n",
      "Data columns (total 2 columns):\n",
      " #   Column                 Non-Null Count  Dtype  \n",
      "---  ------                 --------------  -----  \n",
      " 0   dropoff_location_name  94 non-null     object \n",
      " 1   average_trips          94 non-null     float64\n",
      "dtypes: float64(1), object(1)\n",
      "memory usage: 1.6+ KB\n",
      "None \n",
      "\n",
      "Estatísticas descritivas - Número de corridas por empresa:\n",
      "       trips_amount\n",
      "count     64.000000\n",
      "mean    2145.484375\n",
      "std     3812.310186\n",
      "min        2.000000\n",
      "25%       20.750000\n",
      "50%      178.500000\n",
      "75%     2106.500000\n",
      "max    19558.000000 \n",
      "\n",
      "Estatísticas descritivas - Média de corridas por bairro:\n",
      "       average_trips\n",
      "count      94.000000\n",
      "mean      599.953728\n",
      "std      1714.591098\n",
      "min         1.800000\n",
      "25%        14.266667\n",
      "50%        52.016667\n",
      "75%       298.858333\n",
      "max     10727.466667 \n",
      "\n",
      "Valores ausentes em df_trips_amount:\n",
      "company_name    0\n",
      "trips_amount    0\n",
      "dtype: int64 \n",
      "\n",
      "Valores ausentes em df_average_trips:\n",
      "dropoff_location_name    0\n",
      "average_trips            0\n",
      "dtype: int64 \n",
      "\n",
      "Duplicatas em df_trips_amount: 0 \n",
      "\n",
      "Duplicatas em df_average_trips: 0 \n",
      "\n",
      "Primeiras linhas de df_trips_amount:\n",
      "                      company_name  trips_amount\n",
      "0                        Flash Cab         19558\n",
      "1        Taxi Affiliation Services         11422\n",
      "2                Medallion Leasing         10367\n",
      "3                       Yellow Cab          9888\n",
      "4  Taxi Affiliation Service Yellow          9299 \n",
      "\n",
      "Primeiras linhas de df_average_trips:\n",
      "  dropoff_location_name  average_trips\n",
      "0                  Loop   10727.466667\n",
      "1           River North    9523.666667\n",
      "2         Streeterville    6664.666667\n",
      "3             West Loop    5163.666667\n",
      "4                O'Hare    2546.900000 \n",
      "\n"
     ]
    }
   ],
   "source": [
    "#Informações Gerais dos datasets\n",
    "print(\"Informações gerais sobre df_trips_amount:\")\n",
    "print(df_trips_amount.info(), \"\\n\")\n",
    "\n",
    "print(\"Informações gerais sobre df_average_trips:\")\n",
    "print(df_average_trips.info(), \"\\n\")\n",
    "\n",
    "# Estatísticas descritivas dos datasets\n",
    "print(\"Estatísticas descritivas - Número de corridas por empresa:\")\n",
    "print(df_trips_amount.describe(), \"\\n\")\n",
    "\n",
    "print(\"Estatísticas descritivas - Média de corridas por bairro:\")\n",
    "print(df_average_trips.describe(), \"\\n\")\n",
    "\n",
    "# Verificar valores ausentes\n",
    "print(\"Valores ausentes em df_trips_amount:\")\n",
    "print(df_trips_amount.isnull().sum(), \"\\n\")\n",
    "\n",
    "print(\"Valores ausentes em df_average_trips:\")\n",
    "print(df_average_trips.isnull().sum(), \"\\n\")\n",
    "\n",
    "# Verificar valores duplicados\n",
    "print(\"Duplicatas em df_trips_amount:\", df_trips_amount.duplicated().sum(), \"\\n\")\n",
    "print(\"Duplicatas em df_average_trips:\", df_average_trips.duplicated().sum(), \"\\n\")\n",
    "\n",
    "# Exibir as primeiras linhas dos DataFrames\n",
    "print(\"Primeiras linhas de df_trips_amount:\")\n",
    "print(df_trips_amount.head(), \"\\n\")\n",
    "\n",
    "print(\"Primeiras linhas de df_average_trips:\")\n",
    "print(df_average_trips.head(), \"\\n\")"
   ]
  },
  {
   "cell_type": "markdown",
   "metadata": {},
   "source": [
    "<div class=\"alert alert-block alert-success\">\n",
    "<b> Comentário do revisor: </b> <a class=\"tocSkip\"></a>\n",
    "\n",
    "- Os arquivos de dados foram carregados corretamente\n",
    "- As bibliotecas foram carregadas corretamente\n",
    "- O método `head()` foi  utilizado para exibir uma amostra inicial dos seus dados\n",
    "- Bom trabalho usando o método `describe()` para analisaras estatísticas descritivas do conjunto de dados.\n",
    "</div>"
   ]
  },
  {
   "cell_type": "markdown",
   "metadata": {},
   "source": [
    "<div style=\"background-color: lightblue; padding: 10px; border-radius: 5px;\">Pelo que podemos verificar: \n",
    "O dataset df_trips_amout possui 64 registros e o dataset df_average_trips possui 94 registros. <br>\n",
    "Os datasets não possuem valores ausentes ausentes ou duplicados.<br>\n",
    "\n",
    "Analisando os tipos dos dados:\n",
    "trips_amount - int64 (correto).<br>\n",
    "average_trips - float64 (correto).<br>\n",
    "Sendo assim, não há necessidade de converter os tipos de dados.</div>"
   ]
  },
  {
   "cell_type": "markdown",
   "metadata": {},
   "source": [
    "# 2 - Análise Exploratória dos Dados"
   ]
  },
  {
   "cell_type": "markdown",
   "metadata": {},
   "source": [
    "### 2.1 - Identificando os 10 bairros por número médio de corridas em novembro de 2017"
   ]
  },
  {
   "cell_type": "code",
   "execution_count": 7,
   "metadata": {},
   "outputs": [
    {
     "data": {
      "text/html": [
       "<div>\n",
       "<style scoped>\n",
       "    .dataframe tbody tr th:only-of-type {\n",
       "        vertical-align: middle;\n",
       "    }\n",
       "\n",
       "    .dataframe tbody tr th {\n",
       "        vertical-align: top;\n",
       "    }\n",
       "\n",
       "    .dataframe thead th {\n",
       "        text-align: right;\n",
       "    }\n",
       "</style>\n",
       "<table border=\"1\" class=\"dataframe\">\n",
       "  <thead>\n",
       "    <tr style=\"text-align: right;\">\n",
       "      <th></th>\n",
       "      <th>dropoff_location_name</th>\n",
       "      <th>average_trips</th>\n",
       "    </tr>\n",
       "  </thead>\n",
       "  <tbody>\n",
       "    <tr>\n",
       "      <th>0</th>\n",
       "      <td>Loop</td>\n",
       "      <td>10727.466667</td>\n",
       "    </tr>\n",
       "    <tr>\n",
       "      <th>1</th>\n",
       "      <td>River North</td>\n",
       "      <td>9523.666667</td>\n",
       "    </tr>\n",
       "    <tr>\n",
       "      <th>2</th>\n",
       "      <td>Streeterville</td>\n",
       "      <td>6664.666667</td>\n",
       "    </tr>\n",
       "    <tr>\n",
       "      <th>3</th>\n",
       "      <td>West Loop</td>\n",
       "      <td>5163.666667</td>\n",
       "    </tr>\n",
       "    <tr>\n",
       "      <th>4</th>\n",
       "      <td>O'Hare</td>\n",
       "      <td>2546.900000</td>\n",
       "    </tr>\n",
       "    <tr>\n",
       "      <th>5</th>\n",
       "      <td>Lake View</td>\n",
       "      <td>2420.966667</td>\n",
       "    </tr>\n",
       "    <tr>\n",
       "      <th>6</th>\n",
       "      <td>Grant Park</td>\n",
       "      <td>2068.533333</td>\n",
       "    </tr>\n",
       "    <tr>\n",
       "      <th>7</th>\n",
       "      <td>Museum Campus</td>\n",
       "      <td>1510.000000</td>\n",
       "    </tr>\n",
       "    <tr>\n",
       "      <th>8</th>\n",
       "      <td>Gold Coast</td>\n",
       "      <td>1364.233333</td>\n",
       "    </tr>\n",
       "    <tr>\n",
       "      <th>9</th>\n",
       "      <td>Sheffield &amp; DePaul</td>\n",
       "      <td>1259.766667</td>\n",
       "    </tr>\n",
       "  </tbody>\n",
       "</table>\n",
       "</div>"
      ],
      "text/plain": [
       "  dropoff_location_name  average_trips\n",
       "0                  Loop   10727.466667\n",
       "1           River North    9523.666667\n",
       "2         Streeterville    6664.666667\n",
       "3             West Loop    5163.666667\n",
       "4                O'Hare    2546.900000\n",
       "5             Lake View    2420.966667\n",
       "6            Grant Park    2068.533333\n",
       "7         Museum Campus    1510.000000\n",
       "8            Gold Coast    1364.233333\n",
       "9    Sheffield & DePaul    1259.766667"
      ]
     },
     "execution_count": 7,
     "metadata": {},
     "output_type": "execute_result"
    }
   ],
   "source": [
    "#Identificando os 10 principais bairros em termos de destinos\n",
    "# Ordenando os bairros por número médio de corridas e pegar os 10 primeiros\n",
    "top_10_bairros = df_average_trips.sort_values(by='average_trips', ascending=False).head(10)\n",
    "\n",
    "# Exibindo os 10 bairros principais\n",
    "top_10_bairros"
   ]
  },
  {
   "cell_type": "markdown",
   "metadata": {},
   "source": [
    "### 2.2 - GERANDO OS GRÁFICOS"
   ]
  },
  {
   "cell_type": "code",
   "execution_count": 8,
   "metadata": {},
   "outputs": [
    {
     "data": {
      "image/png": "[encoded data removed]",
      "text/plain": [
       "<Figure size 1200x600 with 1 Axes>"
      ]
     },
     "metadata": {},
     "output_type": "display_data"
    }
   ],
   "source": [
    "import matplotlib.pyplot as plt\n",
    "\n",
    "# Gráfico 1: Empresas de Táxi e Número de Corridas\n",
    "import matplotlib.pyplot as plt\n",
    "\n",
    "# Ordenando os dados em ordem decrescente\n",
    "df_trips_amount_sorted = df_trips_amount.sort_values(by='trips_amount', ascending=False)\n",
    "\n",
    "# Selecionando apenas as 15 principais empresas para melhorar a visualização do gráfico\n",
    "top_n = 15\n",
    "df_top_trips = df_trips_amount_sorted.head(top_n)\n",
    "plt.figure(figsize=(12, 6))\n",
    "plt.bar(df_top_trips['company_name'], df_top_trips['trips_amount'], color='royalblue')\n",
    "plt.xlabel(\"Empresas de Táxi\", fontsize=12)\n",
    "plt.ylabel(\"Número de Corridas\", fontsize=12)\n",
    "plt.title(f\"Top {top_n} Empresas de Táxi por Número de Corridas (15-16 Nov 2017)\", fontsize=14)\n",
    "plt.xticks(rotation=45, ha=\"right\")\n",
    "plt.show()"
   ]
  },
  {
   "cell_type": "markdown",
   "metadata": {},
   "source": [
    "<div style=\"background-color: lightblue; padding: 10px; border-radius: 5px;\">Pelo gráfico, podemos perceber que a empresa Flash Cab domina o mercado.<br>\n",
    "A empresa possui quase 20 mil corridas, estando bem à frente das demais.<br>\n",
    "\n",
    "Podemos presumir que há uma forte presença no mercado ou uma frota muito maior.<br>\n",
    "\n",
    "As três principais empresas: Flash Cab, Taxi Affiliation Services e Medallion Leasing têm um número bem superior de corridas em relação às demais.<br>\n",
    "Juntas, essas três empresas representam uma grande parcela do total de viagens.<br>\n",
    "Parece que a queda no número de corridas é gradual até um certo ponto, mas depois de Choice Taxi Association, a quantidade de corridas diminui mais rapidamente.<br>\n",
    "Empresas como Patriot Taxi Dba Peace Taxi Association e Nova Taxi Affiliation LLC têm menos de 4 mil corridas, enquanto Flash Cab tem quase cinco vezes mais.</div>"
   ]
  },
  {
   "cell_type": "code",
   "execution_count": 9,
   "metadata": {},
   "outputs": [
    {
     "data": {
      "image/png": "[encoded data removed]",
      "text/plain": [
       "<Figure size 1200x600 with 1 Axes>"
      ]
     },
     "metadata": {},
     "output_type": "display_data"
    }
   ],
   "source": [
    "# Gráfico 2: Top 10 Bairros como Destino\n",
    "plt.figure(figsize=(12, 6))\n",
    "plt.bar(top_10_bairros['dropoff_location_name'], top_10_bairros['average_trips'], color='orange')\n",
    "plt.xlabel(\"Bairros\")\n",
    "plt.ylabel(\"Número Médio de Corridas\")\n",
    "plt.title(\"Top 10 Bairros por Número Médio de Corridas em Novembro 2017\")\n",
    "plt.xticks(rotation=45)\n",
    "plt.show()"
   ]
  },
  {
   "cell_type": "markdown",
   "metadata": {},
   "source": [
    "<div style=\"background-color: lightblue; padding: 10px; border-radius: 5px;\">Podemos verificar pelo gráfico que o bairro Loop é o principal destino de corridas.<br>\n",
    "O bairro lidera com mais de 10 mil corridas, sendo o destino mais popular de Chicago.<br>\n",
    "\n",
    "Isso faz sentido, pois sabemos que Loop é o centro financeiro e comercial da cidade, onde há um grande fluxo de pessoas.<br>\n",
    "\n",
    "River North aparece logo atrás, com uma quantidade ligeiramente menor de corridas que o Loop.<br>\n",
    "O bairro é famoso por seus restaurantes, vida noturna e atrações turísticas, o que pode explicar a alta demanda.\n",
    "Streeterville e West Loop também são populares.\n",
    "\n",
    "Apesar de ser um aeroporto internacional, O'Hare tem bem menos corridas do que bairros centrais.<br>\n",
    "Isso pode indicar que passageiros preferem outras formas de transporte para chegar ao aeroporto (trens, carros particulares, ônibus expressos).<br>\n",
    "\n",
    "Já os bairros: Lake View, Grant Park, Museum Campus, Gold Coast e Sheffield & DePaul aparecem no ranking, <br>mas com um número bem menor de corridas.<br>\n",
    "São áreas residenciais e turísticas, o que pode indicar que há tráfego de visitantes, mas não em volumes tão altos.</div>\n"
   ]
  },
  {
   "cell_type": "markdown",
   "metadata": {},
   "source": [
    "<div class=\"alert alert-block alert-success\">\n",
    "<b> Comentário do revisor: </b> <a class=\"tocSkip\"></a>\n",
    "\n",
    "- Os 10 principais bairros em número de corridas foram analisados\n",
    "- As principais empresas em número de corridas foram analisadas\n",
    "- Um gráfico de barras foi construído\n",
    "</div>"
   ]
  },
  {
   "cell_type": "markdown",
   "metadata": {},
   "source": [
    "# 3 - Testando hipóteses (Python)"
   ]
  },
  {
   "cell_type": "markdown",
   "metadata": {},
   "source": [
    "### 3.1 - Salvando, verificando e otimizando o DataFrame"
   ]
  },
  {
   "cell_type": "code",
   "execution_count": 10,
   "metadata": {},
   "outputs": [],
   "source": [
    "df_sql_result = pd.read_csv('https://practicum-content.s3.us-west-1.amazonaws.com/learning-materials/data-analyst-eng/moved_project_sql_result_07.csv')"
   ]
  },
  {
   "cell_type": "code",
   "execution_count": 11,
   "metadata": {},
   "outputs": [
    {
     "name": "stdout",
     "output_type": "stream",
     "text": [
      "<class 'pandas.core.frame.DataFrame'>\n",
      "RangeIndex: 1068 entries, 0 to 1067\n",
      "Data columns (total 3 columns):\n",
      " #   Column              Non-Null Count  Dtype  \n",
      "---  ------              --------------  -----  \n",
      " 0   start_ts            1068 non-null   object \n",
      " 1   weather_conditions  1068 non-null   object \n",
      " 2   duration_seconds    1068 non-null   float64\n",
      "dtypes: float64(1), object(2)\n",
      "memory usage: 25.2+ KB\n"
     ]
    }
   ],
   "source": [
    "df_sql_result.info()"
   ]
  },
  {
   "cell_type": "markdown",
   "metadata": {},
   "source": [
    "<div style=\"background-color: lightblue; padding: 10px; border-radius: 5px;\">Podemos verificar que não há valores ausentes.<br>\n",
    "A coluna start_ts está como object, então precisamos convertê-la para datetime, para análises temporais.</div>"
   ]
  },
  {
   "cell_type": "code",
   "execution_count": 12,
   "metadata": {},
   "outputs": [
    {
     "name": "stdout",
     "output_type": "stream",
     "text": [
      "start_ts              datetime64[ns]\n",
      "weather_conditions            object\n",
      "duration_seconds             float64\n",
      "dtype: object\n"
     ]
    }
   ],
   "source": [
    "# Convertendo start_ts para datetime\n",
    "df_sql_result['start_ts'] = pd.to_datetime(df_sql_result['start_ts'])\n",
    "\n",
    "# Verificando se a conversão foi bem-sucedida\n",
    "print(df_sql_result.dtypes)"
   ]
  },
  {
   "cell_type": "code",
   "execution_count": 13,
   "metadata": {},
   "outputs": [
    {
     "data": {
      "text/html": [
       "<div>\n",
       "<style scoped>\n",
       "    .dataframe tbody tr th:only-of-type {\n",
       "        vertical-align: middle;\n",
       "    }\n",
       "\n",
       "    .dataframe tbody tr th {\n",
       "        vertical-align: top;\n",
       "    }\n",
       "\n",
       "    .dataframe thead th {\n",
       "        text-align: right;\n",
       "    }\n",
       "</style>\n",
       "<table border=\"1\" class=\"dataframe\">\n",
       "  <thead>\n",
       "    <tr style=\"text-align: right;\">\n",
       "      <th></th>\n",
       "      <th>start_ts</th>\n",
       "      <th>weather_conditions</th>\n",
       "      <th>duration_seconds</th>\n",
       "    </tr>\n",
       "  </thead>\n",
       "  <tbody>\n",
       "    <tr>\n",
       "      <th>0</th>\n",
       "      <td>2017-11-25 16:00:00</td>\n",
       "      <td>Good</td>\n",
       "      <td>2410.0</td>\n",
       "    </tr>\n",
       "    <tr>\n",
       "      <th>1</th>\n",
       "      <td>2017-11-25 14:00:00</td>\n",
       "      <td>Good</td>\n",
       "      <td>1920.0</td>\n",
       "    </tr>\n",
       "    <tr>\n",
       "      <th>2</th>\n",
       "      <td>2017-11-25 12:00:00</td>\n",
       "      <td>Good</td>\n",
       "      <td>1543.0</td>\n",
       "    </tr>\n",
       "    <tr>\n",
       "      <th>3</th>\n",
       "      <td>2017-11-04 10:00:00</td>\n",
       "      <td>Good</td>\n",
       "      <td>2512.0</td>\n",
       "    </tr>\n",
       "    <tr>\n",
       "      <th>4</th>\n",
       "      <td>2017-11-11 07:00:00</td>\n",
       "      <td>Good</td>\n",
       "      <td>1440.0</td>\n",
       "    </tr>\n",
       "    <tr>\n",
       "      <th>...</th>\n",
       "      <td>...</td>\n",
       "      <td>...</td>\n",
       "      <td>...</td>\n",
       "    </tr>\n",
       "    <tr>\n",
       "      <th>1063</th>\n",
       "      <td>2017-11-25 11:00:00</td>\n",
       "      <td>Good</td>\n",
       "      <td>0.0</td>\n",
       "    </tr>\n",
       "    <tr>\n",
       "      <th>1064</th>\n",
       "      <td>2017-11-11 10:00:00</td>\n",
       "      <td>Good</td>\n",
       "      <td>1318.0</td>\n",
       "    </tr>\n",
       "    <tr>\n",
       "      <th>1065</th>\n",
       "      <td>2017-11-11 13:00:00</td>\n",
       "      <td>Good</td>\n",
       "      <td>2100.0</td>\n",
       "    </tr>\n",
       "    <tr>\n",
       "      <th>1066</th>\n",
       "      <td>2017-11-11 08:00:00</td>\n",
       "      <td>Good</td>\n",
       "      <td>1380.0</td>\n",
       "    </tr>\n",
       "    <tr>\n",
       "      <th>1067</th>\n",
       "      <td>2017-11-04 16:00:00</td>\n",
       "      <td>Bad</td>\n",
       "      <td>2834.0</td>\n",
       "    </tr>\n",
       "  </tbody>\n",
       "</table>\n",
       "<p>1068 rows × 3 columns</p>\n",
       "</div>"
      ],
      "text/plain": [
       "                start_ts weather_conditions  duration_seconds\n",
       "0    2017-11-25 16:00:00               Good            2410.0\n",
       "1    2017-11-25 14:00:00               Good            1920.0\n",
       "2    2017-11-25 12:00:00               Good            1543.0\n",
       "3    2017-11-04 10:00:00               Good            2512.0\n",
       "4    2017-11-11 07:00:00               Good            1440.0\n",
       "...                  ...                ...               ...\n",
       "1063 2017-11-25 11:00:00               Good               0.0\n",
       "1064 2017-11-11 10:00:00               Good            1318.0\n",
       "1065 2017-11-11 13:00:00               Good            2100.0\n",
       "1066 2017-11-11 08:00:00               Good            1380.0\n",
       "1067 2017-11-04 16:00:00                Bad            2834.0\n",
       "\n",
       "[1068 rows x 3 columns]"
      ]
     },
     "execution_count": 13,
     "metadata": {},
     "output_type": "execute_result"
    }
   ],
   "source": [
    "df_sql_result"
   ]
  },
  {
   "cell_type": "markdown",
   "metadata": {},
   "source": [
    "### 3.2 - Testando Hipóteses"
   ]
  },
  {
   "cell_type": "markdown",
   "metadata": {},
   "source": [
    "<div style=\"background-color: lightblue; padding: 10px; border-radius: 5px;\">Hipótese Nula (H₀):<br> \n",
    "A duração média das corridas nos sábados chuvosos é igual à duração média nos outros sábados.<br> \n",
    "(Ou seja, a chuva não tem impacto significativo na duração das corridas aos sábados.)<br>\n",
    "\n",
    "Hipótese Alternativa (H₁):<br> A duração média das corridas nos sábados chuvosos é diferente da duração média nos outros sábados.<br> (Ou seja, a chuva influencia no tempo das corridas aos sábados.)<br>\n",
    "    \n",
    "Vamos definir α = 0.05 (5%).<br>\n",
    "Isso significa que aceitaremos 5% de chance de erro, para poder rejeitar a hipótese nula.<br>\n",
    "\n",
    "Como estamos comparando comparando a duração média de duas amostras independentes, vamos utilizar o Teste t de Student.<br>\n",
    "\n",
    "</div>\n",
    "\n"
   ]
  },
  {
   "cell_type": "markdown",
   "metadata": {},
   "source": [
    "<div class=\"alert alert-block alert-danger\">\n",
    "<b> Comentário do revisor: </b> <a class=\"tocSkip\"></a>\n",
    "<s>\n",
    "    \n",
    "Aqui precisamos de um pequeno ajuste:\n",
    "    \n",
    "- [x] Você precisa calcular a variância para os dias chuvosos e não chuvosos com o objetivo de definir o argumento `equal_var` do método `stats.ttest_ind(..)` (dica: aqui você pode executar um teste estatístico também para comparar as variâncias):\n",
    "```python\n",
    "# descobrir se as variâncias são diferentes\n",
    "sabados_chuvosos.var(), sabados_normais.var()\n",
    "```   \n",
    "</s>\n",
    "</div>"
   ]
  },
  {
   "cell_type": "code",
   "execution_count": 15,
   "metadata": {},
   "outputs": [
    {
     "name": "stdout",
     "output_type": "stream",
     "text": [
      "Variância Sábados Chuvosos: 520294.086002483\n",
      "Variância Sábados Normais: 576382.009689509\n",
      "P-valor do teste de Levene: 0.5332038671974493\n",
      "As variâncias são iguais? True\n",
      "P-valor do teste T: 6.517970327099473e-12\n",
      "Rejeitamos a hipótese nula. A chuva influencia no tempo das corridas aos sábados.\n"
     ]
    }
   ],
   "source": [
    "# Filtrando apenas os sábados (dayofweek == 5 representa sábado)\n",
    "df_sql_result['day_of_week'] = df_sql_result['start_ts'].dt.dayofweek\n",
    "saturdays = df_sql_result[df_sql_result['day_of_week'] == 5]\n",
    "\n",
    "# Separando corridas em sábados chuvosos e não chuvosos\n",
    "sabados_chuvosos = saturdays[saturdays['weather_conditions'] == 'Bad']['duration_seconds']\n",
    "sabados_normais = saturdays[saturdays['weather_conditions'] == 'Good']['duration_seconds']\n",
    "\n",
    "# Calculando as variâncias\n",
    "var_chuvosos = sabados_chuvosos.var()\n",
    "var_normais = sabados_normais.var()\n",
    "\n",
    "# Usando o Teste de Levene para comparar variâncias\n",
    "levene_test = stats.levene(sabados_chuvosos, sabados_normais)\n",
    "\n",
    "# Definindo equal_var com base no teste de Levene\n",
    "equal_var = levene_test.pvalue > 0.05\n",
    "\n",
    "# Teste T para comparação das médias\n",
    "t_test = stats.ttest_ind(sabados_chuvosos, sabados_normais, equal_var=equal_var)\n",
    "\n",
    "# Definindo o nível de significância\n",
    "alpha = 0.05\n",
    "\n",
    "# Exibindo os resultados\n",
    "print(\"Variância Sábados Chuvosos:\", var_chuvosos)\n",
    "print(\"Variância Sábados Normais:\", var_normais)\n",
    "print(\"P-valor do teste de Levene:\", levene_test.pvalue)\n",
    "print(\"As variâncias são iguais?\", equal_var)\n",
    "print(\"P-valor do teste T:\", t_test.pvalue)\n",
    "\n",
    "# Interpretação do teste de hipóteses\n",
    "if t_test.pvalue < alpha:\n",
    "    print(\"Rejeitamos a hipótese nula. A chuva influencia no tempo das corridas aos sábados.\")\n",
    "else:\n",
    "    print(\"Não rejeitamos a hipótese nula. A chuva não tem um impacto significativo na duração das corridas aos sábados.\")"
   ]
  },
  {
   "cell_type": "markdown",
   "metadata": {},
   "source": [
    " <div style=\"background-color: lightblue; padding: 10px; border-radius: 5px;\"><strong>Análise dos resultados:</strong><br>\n",
    "Além do Teste T de Student, utilizei o teste de Levene, para verificar se as variações das duas amostras são significativamente diferentes.<br>\n",
    "Como resultado do valor p foi 0,533... superior ao valor alpha (0.05), constatamos que as variações das duas amostras podem ser consideradas estatisticamente iguais.<br>\n",
    "Já no Teste T de Student, o valor p foi 6.517970327099473e-12, ou seja, extremamente inferior ao valor alpha  (0.05), por isso rejeitamos a hipótese nula. <br>\n",
    "    <strong>Conclusão:</strong><br>\n",
    "Em dias chuvosos, as corridas demoram mais.<br>\n",
    "As possíveis causas podem ser:<br>\n",
    "- Trânsito mais lento devido à visibilidade reduzida e ruas escorregadias.<br>\n",
    "- Mais demanda por táxis, resultando em mais tempo de espera e mais carros na rua.<br>\n",
    "- Rotas mais longas, pois motoristas podem evitar áreas alagadas ou congestionadas.<br>\n",
    "<br>\n",
    "<strong>Sugestão para as empresas de táxi: </strong> <br> Ajustar melhor os preços ou planejar frotas para melhorar a eficiência nos dias de chuva.</div>"
   ]
  },
  {
   "cell_type": "code",
   "execution_count": null,
   "metadata": {},
   "outputs": [],
   "source": []
  }
 ],
 "metadata": {
  "ExecuteTimeLog": [
   {
    "duration": 355,
    "start_time": "2025-02-05T19:21:26.749Z"
   },
   {
    "duration": 2,
    "start_time": "2025-02-05T19:21:31.143Z"
   },
   {
    "duration": 16,
    "start_time": "2025-02-05T19:22:48.207Z"
   },
   {
    "duration": 27,
    "start_time": "2025-02-05T19:27:14.178Z"
   },
   {
    "duration": 28,
    "start_time": "2025-02-05T19:30:30.930Z"
   },
   {
    "duration": 26,
    "start_time": "2025-02-05T19:31:52.771Z"
   },
   {
    "duration": 29,
    "start_time": "2025-02-05T20:00:41.770Z"
   },
   {
    "duration": 27,
    "start_time": "2025-02-05T20:01:05.264Z"
   },
   {
    "duration": 6,
    "start_time": "2025-02-05T20:14:15.752Z"
   },
   {
    "duration": 7,
    "start_time": "2025-02-05T20:14:27.420Z"
   },
   {
    "duration": 9,
    "start_time": "2025-02-05T20:14:52.249Z"
   },
   {
    "duration": 8,
    "start_time": "2025-02-05T20:15:06.932Z"
   },
   {
    "duration": 7,
    "start_time": "2025-02-05T20:15:19.484Z"
   },
   {
    "duration": 8,
    "start_time": "2025-02-05T20:16:33.508Z"
   },
   {
    "duration": 2,
    "start_time": "2025-02-05T20:29:04.752Z"
   },
   {
    "duration": 12,
    "start_time": "2025-02-05T20:29:04.756Z"
   },
   {
    "duration": 27,
    "start_time": "2025-02-05T20:29:04.769Z"
   },
   {
    "duration": 7,
    "start_time": "2025-02-05T20:29:04.798Z"
   },
   {
    "duration": 14,
    "start_time": "2025-02-05T20:29:27.700Z"
   },
   {
    "duration": 2,
    "start_time": "2025-02-05T20:29:35.396Z"
   },
   {
    "duration": 2,
    "start_time": "2025-02-05T20:29:43.537Z"
   },
   {
    "duration": 8,
    "start_time": "2025-02-05T20:29:43.542Z"
   },
   {
    "duration": 24,
    "start_time": "2025-02-05T20:29:43.552Z"
   },
   {
    "duration": 7,
    "start_time": "2025-02-05T20:29:43.578Z"
   },
   {
    "duration": 7,
    "start_time": "2025-02-05T20:33:38.182Z"
   },
   {
    "duration": 7,
    "start_time": "2025-02-05T20:34:44.414Z"
   },
   {
    "duration": 3040,
    "start_time": "2025-02-05T20:35:11.088Z"
   },
   {
    "duration": 1169,
    "start_time": "2025-02-05T20:35:33.232Z"
   },
   {
    "duration": 1222,
    "start_time": "2025-02-05T20:36:07.072Z"
   },
   {
    "duration": 1161,
    "start_time": "2025-02-05T20:36:27.795Z"
   },
   {
    "duration": 427,
    "start_time": "2025-02-05T20:40:01.050Z"
   },
   {
    "duration": 206,
    "start_time": "2025-02-05T20:42:26.649Z"
   },
   {
    "duration": 150,
    "start_time": "2025-02-05T20:42:33.645Z"
   },
   {
    "duration": 154,
    "start_time": "2025-02-05T20:45:50.226Z"
   },
   {
    "duration": 597,
    "start_time": "2025-02-05T20:54:32.736Z"
   },
   {
    "duration": 304,
    "start_time": "2025-02-05T20:55:24.894Z"
   },
   {
    "duration": 282,
    "start_time": "2025-02-05T20:55:44.351Z"
   },
   {
    "duration": 9,
    "start_time": "2025-02-05T20:55:51.772Z"
   },
   {
    "duration": 9,
    "start_time": "2025-02-05T20:56:48.684Z"
   },
   {
    "duration": 319,
    "start_time": "2025-02-05T21:17:35.227Z"
   },
   {
    "duration": 8,
    "start_time": "2025-02-05T21:17:38.093Z"
   },
   {
    "duration": 6,
    "start_time": "2025-02-05T21:19:19.765Z"
   },
   {
    "duration": 331,
    "start_time": "2025-02-05T21:41:04.433Z"
   },
   {
    "duration": 3,
    "start_time": "2025-02-05T21:41:12.013Z"
   },
   {
    "duration": 9,
    "start_time": "2025-02-05T21:41:12.018Z"
   },
   {
    "duration": 35,
    "start_time": "2025-02-05T21:41:12.030Z"
   },
   {
    "duration": 7,
    "start_time": "2025-02-05T21:41:12.067Z"
   },
   {
    "duration": 248,
    "start_time": "2025-02-05T21:41:12.076Z"
   },
   {
    "duration": 175,
    "start_time": "2025-02-05T21:41:12.326Z"
   },
   {
    "duration": 321,
    "start_time": "2025-02-05T21:41:12.504Z"
   },
   {
    "duration": 14,
    "start_time": "2025-02-05T21:41:12.828Z"
   },
   {
    "duration": 8,
    "start_time": "2025-02-05T21:41:12.845Z"
   },
   {
    "duration": 72,
    "start_time": "2025-02-05T21:42:26.051Z"
   },
   {
    "duration": 10,
    "start_time": "2025-02-05T21:42:50.737Z"
   },
   {
    "duration": 11,
    "start_time": "2025-02-05T21:43:02.302Z"
   },
   {
    "duration": 10,
    "start_time": "2025-02-05T21:43:07.622Z"
   },
   {
    "duration": 7,
    "start_time": "2025-02-05T21:46:32.674Z"
   },
   {
    "duration": 7,
    "start_time": "2025-02-05T21:46:53.082Z"
   },
   {
    "duration": 8,
    "start_time": "2025-02-05T21:46:57.896Z"
   },
   {
    "duration": 9,
    "start_time": "2025-02-05T21:48:11.886Z"
   },
   {
    "duration": 11,
    "start_time": "2025-02-05T21:50:05.397Z"
   },
   {
    "duration": 8,
    "start_time": "2025-02-05T21:52:39.311Z"
   },
   {
    "duration": 9,
    "start_time": "2025-02-05T21:55:47.922Z"
   },
   {
    "duration": 9,
    "start_time": "2025-02-05T21:55:59.102Z"
   },
   {
    "duration": 9,
    "start_time": "2025-02-05T21:56:04.565Z"
   },
   {
    "duration": 5,
    "start_time": "2025-02-05T21:56:18.307Z"
   },
   {
    "duration": 9,
    "start_time": "2025-02-05T21:56:28.103Z"
   },
   {
    "duration": 3,
    "start_time": "2025-02-05T22:04:47.326Z"
   },
   {
    "duration": 8,
    "start_time": "2025-02-05T22:04:47.331Z"
   },
   {
    "duration": 30,
    "start_time": "2025-02-05T22:04:47.341Z"
   },
   {
    "duration": 7,
    "start_time": "2025-02-05T22:04:47.373Z"
   },
   {
    "duration": 255,
    "start_time": "2025-02-05T22:04:47.383Z"
   },
   {
    "duration": 171,
    "start_time": "2025-02-05T22:04:47.641Z"
   },
   {
    "duration": 333,
    "start_time": "2025-02-05T22:04:47.815Z"
   },
   {
    "duration": 9,
    "start_time": "2025-02-05T22:04:48.150Z"
   },
   {
    "duration": 6,
    "start_time": "2025-02-05T22:04:48.161Z"
   },
   {
    "duration": 11,
    "start_time": "2025-02-05T22:04:48.169Z"
   },
   {
    "duration": 546,
    "start_time": "2025-02-05T22:04:48.182Z"
   },
   {
    "duration": 2,
    "start_time": "2025-02-05T22:04:56.277Z"
   },
   {
    "duration": 7,
    "start_time": "2025-02-05T22:04:59.328Z"
   },
   {
    "duration": 32,
    "start_time": "2025-02-05T22:05:03.303Z"
   },
   {
    "duration": 8,
    "start_time": "2025-02-05T22:05:11.960Z"
   },
   {
    "duration": 152,
    "start_time": "2025-02-05T22:05:21.959Z"
   },
   {
    "duration": 315,
    "start_time": "2025-02-05T22:05:26.465Z"
   },
   {
    "duration": 9,
    "start_time": "2025-02-05T22:05:28.398Z"
   },
   {
    "duration": 6,
    "start_time": "2025-02-05T22:05:31.158Z"
   },
   {
    "duration": 10,
    "start_time": "2025-02-05T22:05:33.403Z"
   },
   {
    "duration": 49,
    "start_time": "2025-02-05T22:05:45.499Z"
   },
   {
    "duration": 11,
    "start_time": "2025-02-05T22:06:45.415Z"
   },
   {
    "duration": 308,
    "start_time": "2025-02-05T22:08:30.658Z"
   },
   {
    "duration": 10,
    "start_time": "2025-02-05T22:08:33.493Z"
   },
   {
    "duration": 6,
    "start_time": "2025-02-05T22:09:37.636Z"
   },
   {
    "duration": 11,
    "start_time": "2025-02-05T22:09:42.185Z"
   },
   {
    "duration": 9,
    "start_time": "2025-02-05T22:10:03.483Z"
   },
   {
    "duration": 11,
    "start_time": "2025-02-05T22:10:44.357Z"
   },
   {
    "duration": 301,
    "start_time": "2025-02-05T22:11:29.631Z"
   },
   {
    "duration": 9,
    "start_time": "2025-02-05T22:11:32.862Z"
   },
   {
    "duration": 5,
    "start_time": "2025-02-05T22:11:38.730Z"
   },
   {
    "duration": 6,
    "start_time": "2025-02-05T22:14:43.557Z"
   },
   {
    "duration": 188,
    "start_time": "2025-02-05T22:21:07.821Z"
   },
   {
    "duration": 3,
    "start_time": "2025-02-05T22:22:06.796Z"
   },
   {
    "duration": 13,
    "start_time": "2025-02-05T22:22:06.802Z"
   },
   {
    "duration": 39,
    "start_time": "2025-02-05T22:22:06.818Z"
   },
   {
    "duration": 11,
    "start_time": "2025-02-05T22:22:06.860Z"
   },
   {
    "duration": 363,
    "start_time": "2025-02-05T22:22:06.875Z"
   },
   {
    "duration": 177,
    "start_time": "2025-02-05T22:22:07.240Z"
   },
   {
    "duration": 307,
    "start_time": "2025-02-05T22:22:07.420Z"
   },
   {
    "duration": 13,
    "start_time": "2025-02-05T22:22:07.737Z"
   },
   {
    "duration": 15,
    "start_time": "2025-02-05T22:22:07.757Z"
   },
   {
    "duration": 12,
    "start_time": "2025-02-05T22:22:07.781Z"
   },
   {
    "duration": 10,
    "start_time": "2025-02-05T22:22:07.796Z"
   },
   {
    "duration": 164,
    "start_time": "2025-02-06T18:40:43.772Z"
   },
   {
    "duration": 17,
    "start_time": "2025-02-06T18:49:10.570Z"
   },
   {
    "duration": 12,
    "start_time": "2025-02-06T18:49:24.208Z"
   },
   {
    "duration": 630,
    "start_time": "2025-02-06T18:49:41.476Z"
   },
   {
    "duration": 13,
    "start_time": "2025-02-06T18:49:45.981Z"
   },
   {
    "duration": 27,
    "start_time": "2025-02-06T18:49:45.996Z"
   },
   {
    "duration": 9,
    "start_time": "2025-02-06T18:49:46.024Z"
   },
   {
    "duration": 2072,
    "start_time": "2025-02-06T18:49:46.035Z"
   },
   {
    "duration": 149,
    "start_time": "2025-02-06T18:49:48.110Z"
   },
   {
    "duration": 322,
    "start_time": "2025-02-06T18:49:48.261Z"
   },
   {
    "duration": 8,
    "start_time": "2025-02-06T18:49:48.585Z"
   },
   {
    "duration": 6,
    "start_time": "2025-02-06T18:49:48.595Z"
   },
   {
    "duration": 10,
    "start_time": "2025-02-06T18:49:48.603Z"
   },
   {
    "duration": 11,
    "start_time": "2025-02-06T18:49:48.616Z"
   },
   {
    "duration": 11,
    "start_time": "2025-02-06T18:49:52.581Z"
   }
  ],
  "kernelspec": {
   "display_name": "Python 3 (ipykernel)",
   "language": "python",
   "name": "python3"
  },
  "language_info": {
   "codemirror_mode": {
    "name": "ipython",
    "version": 3
   },
   "file_extension": ".py",
   "mimetype": "text/x-python",
   "name": "python",
   "nbconvert_exporter": "python",
   "pygments_lexer": "ipython3",
   "version": "3.9.19"
  },
  "toc": {
   "base_numbering": 1,
   "nav_menu": {},
   "number_sections": true,
   "sideBar": true,
   "skip_h1_title": true,
   "title_cell": "Table of Contents",
   "title_sidebar": "Contents",
   "toc_cell": false,
   "toc_position": {},
   "toc_section_display": true,
   "toc_window_display": false
  }
 },
 "nbformat": 4,
 "nbformat_minor": 2
}
